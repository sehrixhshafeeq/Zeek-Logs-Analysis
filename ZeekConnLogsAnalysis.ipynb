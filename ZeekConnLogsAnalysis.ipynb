{
 "cells": [
  {
   "cell_type": "markdown",
   "metadata": {
    "slideshow": {
     "slide_type": "slide"
    }
   },
   "source": [
    "# Analysis of Zeek logs"
   ]
  },
  {
   "cell_type": "code",
   "execution_count": 1,
   "metadata": {
    "slideshow": {
     "slide_type": "skip"
    }
   },
   "outputs": [],
   "source": [
    "import pandas as pd\n",
    "import json\n",
    "import gzip\n",
    "import glob\n",
    "import os\n",
    "import seaborn as sb\n",
    "\n",
    "%matplotlib inline\n",
    "import matplotlib.pyplot as plt\n"
   ]
  },
  {
   "cell_type": "markdown",
   "metadata": {
    "slideshow": {
     "slide_type": "skip"
    }
   },
   "source": [
    "### Extract gz files"
   ]
  },
  {
   "cell_type": "code",
   "execution_count": 2,
   "metadata": {
    "slideshow": {
     "slide_type": "skip"
    }
   },
   "outputs": [],
   "source": [
    "path = './data/2020-06-03/' \n",
    "all_files = glob.glob(os.path.join(path,\"conn.*.log.gz\"))"
   ]
  },
  {
   "cell_type": "code",
   "execution_count": 6,
   "metadata": {
    "scrolled": true,
    "slideshow": {
     "slide_type": "skip"
    }
   },
   "outputs": [],
   "source": [
    "df_list = []\n",
    "\n",
    "for jsonfilename in all_files:\n",
    "    with gzip.GzipFile(jsonfilename, 'r') as json_file:\n",
    "        for line in json_file:\n",
    "            json_data = json.loads(line)\n",
    "           \n",
    "            timestamp = json_data['ts']\n",
    "            source_ip = json_data['id.orig_h']\n",
    "            source_port = json_data['id.orig_p']\n",
    "            destination_ip = json_data['id.resp_h']\n",
    "            destination_port = json_data['id.resp_p']\n",
    "            protocol = json_data['proto']\n",
    "            \n",
    "            if 'service' in json_data:\n",
    "                service = json_data['service']\n",
    "            else:\n",
    "                service = 'NaN'\n",
    "                \n",
    "            connection_state = json_data['conn_state']\n",
    "\n",
    "            df_list.append({'timestamp':pd.to_datetime(timestamp),\n",
    "                           'source_ip': str(source_ip),\n",
    "                           'source_port': int(source_port),\n",
    "                           'destination_ip':str(destination_ip),\n",
    "                           'destination_port':int(destination_port),\n",
    "                           'protocol':str(protocol),\n",
    "                           'service':str(service),\n",
    "                           'connection_state':str(connection_state)})\n"
   ]
  },
  {
   "cell_type": "markdown",
   "metadata": {
    "slideshow": {
     "slide_type": "skip"
    }
   },
   "source": [
    "Create data frame from dictionary"
   ]
  },
  {
   "cell_type": "code",
   "execution_count": 8,
   "metadata": {
    "slideshow": {
     "slide_type": "skip"
    }
   },
   "outputs": [
    {
     "data": {
      "text/html": [
       "<div>\n",
       "<style scoped>\n",
       "    .dataframe tbody tr th:only-of-type {\n",
       "        vertical-align: middle;\n",
       "    }\n",
       "\n",
       "    .dataframe tbody tr th {\n",
       "        vertical-align: top;\n",
       "    }\n",
       "\n",
       "    .dataframe thead th {\n",
       "        text-align: right;\n",
       "    }\n",
       "</style>\n",
       "<table border=\"1\" class=\"dataframe\">\n",
       "  <thead>\n",
       "    <tr style=\"text-align: right;\">\n",
       "      <th></th>\n",
       "      <th>timestamp</th>\n",
       "      <th>source_ip</th>\n",
       "      <th>source_port</th>\n",
       "      <th>destination_ip</th>\n",
       "      <th>destination_port</th>\n",
       "      <th>protocol</th>\n",
       "      <th>service</th>\n",
       "      <th>connection_state</th>\n",
       "    </tr>\n",
       "  </thead>\n",
       "  <tbody>\n",
       "    <tr>\n",
       "      <th>0</th>\n",
       "      <td>1970-01-01 00:00:01.591124392</td>\n",
       "      <td>177.220.133.158</td>\n",
       "      <td>49491</td>\n",
       "      <td>115.186.176.141</td>\n",
       "      <td>22</td>\n",
       "      <td>tcp</td>\n",
       "      <td>ssh</td>\n",
       "      <td>SF</td>\n",
       "    </tr>\n",
       "    <tr>\n",
       "      <th>1</th>\n",
       "      <td>1970-01-01 00:00:01.591124395</td>\n",
       "      <td>123.25.13.20</td>\n",
       "      <td>51962</td>\n",
       "      <td>115.186.176.142</td>\n",
       "      <td>3389</td>\n",
       "      <td>tcp</td>\n",
       "      <td>ssl</td>\n",
       "      <td>RSTO</td>\n",
       "    </tr>\n",
       "    <tr>\n",
       "      <th>2</th>\n",
       "      <td>1970-01-01 00:00:01.591124399</td>\n",
       "      <td>195.144.21.185</td>\n",
       "      <td>61081</td>\n",
       "      <td>115.186.176.142</td>\n",
       "      <td>13331</td>\n",
       "      <td>tcp</td>\n",
       "      <td>NaN</td>\n",
       "      <td>S0</td>\n",
       "    </tr>\n",
       "    <tr>\n",
       "      <th>3</th>\n",
       "      <td>1970-01-01 00:00:01.591124400</td>\n",
       "      <td>139.59.58.115</td>\n",
       "      <td>57605</td>\n",
       "      <td>115.186.176.141</td>\n",
       "      <td>27529</td>\n",
       "      <td>tcp</td>\n",
       "      <td>NaN</td>\n",
       "      <td>REJ</td>\n",
       "    </tr>\n",
       "    <tr>\n",
       "      <th>4</th>\n",
       "      <td>1970-01-01 00:00:01.591124395</td>\n",
       "      <td>78.42.135.89</td>\n",
       "      <td>38256</td>\n",
       "      <td>115.186.176.141</td>\n",
       "      <td>22</td>\n",
       "      <td>tcp</td>\n",
       "      <td>ssh</td>\n",
       "      <td>SF</td>\n",
       "    </tr>\n",
       "  </tbody>\n",
       "</table>\n",
       "</div>"
      ],
      "text/plain": [
       "                      timestamp        source_ip  source_port  \\\n",
       "0 1970-01-01 00:00:01.591124392  177.220.133.158        49491   \n",
       "1 1970-01-01 00:00:01.591124395     123.25.13.20        51962   \n",
       "2 1970-01-01 00:00:01.591124399   195.144.21.185        61081   \n",
       "3 1970-01-01 00:00:01.591124400    139.59.58.115        57605   \n",
       "4 1970-01-01 00:00:01.591124395     78.42.135.89        38256   \n",
       "\n",
       "    destination_ip  destination_port protocol service connection_state  \n",
       "0  115.186.176.141                22      tcp     ssh               SF  \n",
       "1  115.186.176.142              3389      tcp     ssl             RSTO  \n",
       "2  115.186.176.142             13331      tcp     NaN               S0  \n",
       "3  115.186.176.141             27529      tcp     NaN              REJ  \n",
       "4  115.186.176.141                22      tcp     ssh               SF  "
      ]
     },
     "execution_count": 8,
     "metadata": {},
     "output_type": "execute_result"
    }
   ],
   "source": [
    "conn_df = pd.DataFrame(df_list, columns =['timestamp', 'source_ip', 'source_port', 'destination_ip', \n",
    "                                          'destination_port', 'protocol', 'service', 'connection_state'])\n",
    "conn_df.head()"
   ]
  },
  {
   "cell_type": "code",
   "execution_count": 10,
   "metadata": {
    "slideshow": {
     "slide_type": "skip"
    }
   },
   "outputs": [
    {
     "data": {
      "text/plain": [
       "(51039, 8)"
      ]
     },
     "execution_count": 10,
     "metadata": {},
     "output_type": "execute_result"
    }
   ],
   "source": [
    "conn_df.shape"
   ]
  },
  {
   "cell_type": "markdown",
   "metadata": {
    "slideshow": {
     "slide_type": "skip"
    }
   },
   "source": [
    "*Store dataframe to csv*"
   ]
  },
  {
   "cell_type": "code",
   "execution_count": 11,
   "metadata": {
    "slideshow": {
     "slide_type": "skip"
    }
   },
   "outputs": [],
   "source": [
    "conn_df.to_csv('./data/2020-06-03/conn_logs.csv', index = False)"
   ]
  },
  {
   "cell_type": "code",
   "execution_count": 12,
   "metadata": {
    "slideshow": {
     "slide_type": "skip"
    }
   },
   "outputs": [
    {
     "name": "stdout",
     "output_type": "stream",
     "text": [
      "<class 'pandas.core.frame.DataFrame'>\n",
      "RangeIndex: 51039 entries, 0 to 51038\n",
      "Data columns (total 8 columns):\n",
      "timestamp           51039 non-null datetime64[ns]\n",
      "source_ip           51039 non-null object\n",
      "source_port         51039 non-null int64\n",
      "destination_ip      51039 non-null object\n",
      "destination_port    51039 non-null int64\n",
      "protocol            51039 non-null object\n",
      "service             51039 non-null object\n",
      "connection_state    51039 non-null object\n",
      "dtypes: datetime64[ns](1), int64(2), object(5)\n",
      "memory usage: 3.1+ MB\n"
     ]
    }
   ],
   "source": [
    "conn_df.info()"
   ]
  },
  {
   "cell_type": "markdown",
   "metadata": {
    "slideshow": {
     "slide_type": "skip"
    }
   },
   "source": [
    "### Attackers Connections"
   ]
  },
  {
   "cell_type": "code",
   "execution_count": 13,
   "metadata": {
    "slideshow": {
     "slide_type": "skip"
    }
   },
   "outputs": [],
   "source": [
    "df_merged = pd.read_csv('./data/2020-06-03/conn_logs.csv')"
   ]
  },
  {
   "cell_type": "code",
   "execution_count": 14,
   "metadata": {
    "slideshow": {
     "slide_type": "skip"
    }
   },
   "outputs": [
    {
     "data": {
      "text/html": [
       "<div>\n",
       "<style scoped>\n",
       "    .dataframe tbody tr th:only-of-type {\n",
       "        vertical-align: middle;\n",
       "    }\n",
       "\n",
       "    .dataframe tbody tr th {\n",
       "        vertical-align: top;\n",
       "    }\n",
       "\n",
       "    .dataframe thead th {\n",
       "        text-align: right;\n",
       "    }\n",
       "</style>\n",
       "<table border=\"1\" class=\"dataframe\">\n",
       "  <thead>\n",
       "    <tr style=\"text-align: right;\">\n",
       "      <th></th>\n",
       "      <th>timestamp</th>\n",
       "      <th>source_ip</th>\n",
       "      <th>source_port</th>\n",
       "      <th>destination_ip</th>\n",
       "      <th>destination_port</th>\n",
       "      <th>protocol</th>\n",
       "      <th>service</th>\n",
       "      <th>connection_state</th>\n",
       "    </tr>\n",
       "  </thead>\n",
       "  <tbody>\n",
       "    <tr>\n",
       "      <th>0</th>\n",
       "      <td>1970-01-01 00:00:01.591124392</td>\n",
       "      <td>177.220.133.158</td>\n",
       "      <td>49491</td>\n",
       "      <td>115.186.176.141</td>\n",
       "      <td>22</td>\n",
       "      <td>tcp</td>\n",
       "      <td>ssh</td>\n",
       "      <td>SF</td>\n",
       "    </tr>\n",
       "    <tr>\n",
       "      <th>1</th>\n",
       "      <td>1970-01-01 00:00:01.591124395</td>\n",
       "      <td>123.25.13.20</td>\n",
       "      <td>51962</td>\n",
       "      <td>115.186.176.142</td>\n",
       "      <td>3389</td>\n",
       "      <td>tcp</td>\n",
       "      <td>ssl</td>\n",
       "      <td>RSTO</td>\n",
       "    </tr>\n",
       "    <tr>\n",
       "      <th>2</th>\n",
       "      <td>1970-01-01 00:00:01.591124399</td>\n",
       "      <td>195.144.21.185</td>\n",
       "      <td>61081</td>\n",
       "      <td>115.186.176.142</td>\n",
       "      <td>13331</td>\n",
       "      <td>tcp</td>\n",
       "      <td>NaN</td>\n",
       "      <td>S0</td>\n",
       "    </tr>\n",
       "    <tr>\n",
       "      <th>3</th>\n",
       "      <td>1970-01-01 00:00:01.591124400</td>\n",
       "      <td>139.59.58.115</td>\n",
       "      <td>57605</td>\n",
       "      <td>115.186.176.141</td>\n",
       "      <td>27529</td>\n",
       "      <td>tcp</td>\n",
       "      <td>NaN</td>\n",
       "      <td>REJ</td>\n",
       "    </tr>\n",
       "    <tr>\n",
       "      <th>4</th>\n",
       "      <td>1970-01-01 00:00:01.591124395</td>\n",
       "      <td>78.42.135.89</td>\n",
       "      <td>38256</td>\n",
       "      <td>115.186.176.141</td>\n",
       "      <td>22</td>\n",
       "      <td>tcp</td>\n",
       "      <td>ssh</td>\n",
       "      <td>SF</td>\n",
       "    </tr>\n",
       "  </tbody>\n",
       "</table>\n",
       "</div>"
      ],
      "text/plain": [
       "                       timestamp        source_ip  source_port  \\\n",
       "0  1970-01-01 00:00:01.591124392  177.220.133.158        49491   \n",
       "1  1970-01-01 00:00:01.591124395     123.25.13.20        51962   \n",
       "2  1970-01-01 00:00:01.591124399   195.144.21.185        61081   \n",
       "3  1970-01-01 00:00:01.591124400    139.59.58.115        57605   \n",
       "4  1970-01-01 00:00:01.591124395     78.42.135.89        38256   \n",
       "\n",
       "    destination_ip  destination_port protocol service connection_state  \n",
       "0  115.186.176.141                22      tcp     ssh               SF  \n",
       "1  115.186.176.142              3389      tcp     ssl             RSTO  \n",
       "2  115.186.176.142             13331      tcp     NaN               S0  \n",
       "3  115.186.176.141             27529      tcp     NaN              REJ  \n",
       "4  115.186.176.141                22      tcp     ssh               SF  "
      ]
     },
     "execution_count": 14,
     "metadata": {},
     "output_type": "execute_result"
    }
   ],
   "source": [
    "df_merged.head()"
   ]
  },
  {
   "cell_type": "markdown",
   "metadata": {
    "slideshow": {
     "slide_type": "slide"
    }
   },
   "source": [
    "###  What are Attackers Source Ip's"
   ]
  },
  {
   "cell_type": "code",
   "execution_count": 15,
   "metadata": {
    "slideshow": {
     "slide_type": "subslide"
    }
   },
   "outputs": [
    {
     "data": {
      "image/png": "[encoded data removed]",
      "text/plain": [
       "<Figure size 864x432 with 1 Axes>"
      ]
     },
     "metadata": {
      "needs_background": "light"
     },
     "output_type": "display_data"
    }
   ],
   "source": [
    "plt.figure(figsize=(12,6))\n",
    "sb.countplot(data=df_merged, y='source_ip', order=df_merged.source_ip.value_counts().iloc[:5].index,\n",
    "            orient = 'h');\n",
    "sb.set_style(\"dark\")\n",
    "plt.ylabel('Source IPs')\n",
    "plt.xlabel('Count');"
   ]
  },
  {
   "cell_type": "markdown",
   "metadata": {
    "slideshow": {
     "slide_type": "slide"
    }
   },
   "source": [
    "### Attackers Source Port"
   ]
  },
  {
   "cell_type": "code",
   "execution_count": 16,
   "metadata": {
    "scrolled": true,
    "slideshow": {
     "slide_type": "subslide"
    }
   },
   "outputs": [
    {
     "data": {
      "image/png": "[encoded data removed]",
      "text/plain": [
       "<Figure size 864x360 with 1 Axes>"
      ]
     },
     "metadata": {},
     "output_type": "display_data"
    }
   ],
   "source": [
    "\n",
    "plt.figure(figsize=(12,5))\n",
    "sb.countplot(data=df_merged, x='source_port', order=df_merged.source_port.value_counts().iloc[:5].index,\n",
    "            orient = 'h');\n",
    "sb.set_style(\"dark\")\n",
    "plt.title('Attacker HTTP Source Port')\n",
    "plt.ylabel('Count')\n",
    "plt.xlabel('Source Ports');"
   ]
  },
  {
   "cell_type": "markdown",
   "metadata": {
    "slideshow": {
     "slide_type": "slide"
    }
   },
   "source": [
    "### Attackers Destination IP"
   ]
  },
  {
   "cell_type": "code",
   "execution_count": 17,
   "metadata": {
    "scrolled": true,
    "slideshow": {
     "slide_type": "subslide"
    }
   },
   "outputs": [
    {
     "data": {
      "image/png": "[encoded data removed]",
      "text/plain": [
       "<Figure size 864x432 with 1 Axes>"
      ]
     },
     "metadata": {},
     "output_type": "display_data"
    }
   ],
   "source": [
    "plt.figure(figsize=(12,6))\n",
    "sb.countplot(data=df_merged, y='destination_ip', order=df_merged.destination_ip.value_counts().iloc[:5].index,\n",
    "            orient = 'h');\n",
    "sb.set_style(\"whitegrid\")\n",
    "plt.ylabel('Destination IPs')\n",
    "plt.xlabel('Count');"
   ]
  },
  {
   "cell_type": "markdown",
   "metadata": {
    "slideshow": {
     "slide_type": "slide"
    }
   },
   "source": [
    "### Attackers Destination PORTs"
   ]
  },
  {
   "cell_type": "code",
   "execution_count": 18,
   "metadata": {
    "scrolled": false,
    "slideshow": {
     "slide_type": "subslide"
    }
   },
   "outputs": [
    {
     "data": {
      "image/png": "[encoded data removed]",
      "text/plain": [
       "<Figure size 864x360 with 1 Axes>"
      ]
     },
     "metadata": {},
     "output_type": "display_data"
    }
   ],
   "source": [
    "plt.figure(figsize=(12,5))\n",
    "sb.countplot(data=df_merged, x='destination_port', order=df_merged.destination_port.value_counts().iloc[:5].index,\n",
    "            orient = 'h');\n",
    "sb.set_style(\"dark\")\n",
    "plt.title('Attacker HTTP Destination Port')\n",
    "plt.ylabel('Count')\n",
    "plt.xlabel('Destination Ports');"
   ]
  },
  {
   "cell_type": "markdown",
   "metadata": {
    "slideshow": {
     "slide_type": "slide"
    }
   },
   "source": [
    "### What are the services attacked?"
   ]
  },
  {
   "cell_type": "code",
   "execution_count": 20,
   "metadata": {
    "scrolled": true,
    "slideshow": {
     "slide_type": "subslide"
    }
   },
   "outputs": [
    {
     "data": {
      "image/png": "[encoded data removed]",
      "text/plain": [
       "<Figure size 864x360 with 1 Axes>"
      ]
     },
     "metadata": {},
     "output_type": "display_data"
    }
   ],
   "source": [
    "plt.figure(figsize=(12,5))\n",
    "sb.countplot(data=df_merged, y='service', order=df_merged.service.value_counts().iloc[:5].index,\n",
    "            orient = 'h');\n",
    "sb.set_style(\"dark\")\n",
    "plt.title('Top 5 Services Attacked')\n",
    "plt.ylabel('Count')\n",
    "plt.xlabel('Services');"
   ]
  },
  {
   "cell_type": "markdown",
   "metadata": {
    "slideshow": {
     "slide_type": "slide"
    }
   },
   "source": [
    "### What are the protocols used by attacker"
   ]
  },
  {
   "cell_type": "code",
   "execution_count": 25,
   "metadata": {},
   "outputs": [],
   "source": [
    "sum_proto = df_merged['protocol'].value_counts()"
   ]
  },
  {
   "cell_type": "code",
   "execution_count": 30,
   "metadata": {
    "scrolled": true,
    "slideshow": {
     "slide_type": "subslide"
    }
   },
   "outputs": [
    {
     "data": {
      "image/png": "[encoded data removed]",
      "text/plain": [
       "<Figure size 432x432 with 1 Axes>"
      ]
     },
     "metadata": {},
     "output_type": "display_data"
    }
   ],
   "source": [
    "plt.figure(figsize=(6,6))\n",
    "plt.pie(sum_proto, labels= sum_proto.index, autopct='%1.1f%%')\n",
    "plt.title('Protocols Used in Attack')\n",
    "plt.show();"
   ]
  },
  {
   "cell_type": "markdown",
   "metadata": {
    "slideshow": {
     "slide_type": "slide"
    }
   },
   "source": [
    "### What are the connection states?"
   ]
  },
  {
   "cell_type": "code",
   "execution_count": 31,
   "metadata": {
    "slideshow": {
     "slide_type": "subslide"
    }
   },
   "outputs": [
    {
     "data": {
      "image/png": "[encoded data removed]",
      "text/plain": [
       "<Figure size 864x360 with 1 Axes>"
      ]
     },
     "metadata": {},
     "output_type": "display_data"
    }
   ],
   "source": [
    "plt.figure(figsize=(12,5))\n",
    "sb.countplot(data=df_merged, y='connection_state', order=df_merged.connection_state.value_counts().iloc[:5].index,\n",
    "            orient = 'h');\n",
    "sb.set_style(\"dark\")\n",
    "plt.title('Top 5 Connection States')\n",
    "plt.ylabel('Count')\n",
    "plt.xlabel('Connection States');"
   ]
  }
 ],
 "metadata": {
  "celltoolbar": "Slideshow",
  "kernelspec": {
   "display_name": "Python 3",
   "language": "python",
   "name": "python3"
  },
  "language_info": {
   "codemirror_mode": {
    "name": "ipython",
    "version": 3
   },
   "file_extension": ".py",
   "mimetype": "text/x-python",
   "name": "python",
   "nbconvert_exporter": "python",
   "pygments_lexer": "ipython3",
   "version": "3.7.3"
  }
 },
 "nbformat": 4,
 "nbformat_minor": 2
}
