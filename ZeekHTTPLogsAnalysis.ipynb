{
 "cells": [
  {
   "cell_type": "markdown",
   "metadata": {
    "slideshow": {
     "slide_type": "slide"
    }
   },
   "source": [
    "# Analysis of Zeek logs"
   ]
  },
  {
   "cell_type": "code",
   "execution_count": 4,
   "metadata": {
    "slideshow": {
     "slide_type": "skip"
    }
   },
   "outputs": [],
   "source": [
    "import pandas as pd\n",
    "import json\n",
    "import gzip\n",
    "import glob\n",
    "import os\n",
    "import seaborn as sb\n",
    "\n",
    "%matplotlib inline\n",
    "import matplotlib.pyplot as plt\n"
   ]
  },
  {
   "cell_type": "markdown",
   "metadata": {
    "slideshow": {
     "slide_type": "skip"
    }
   },
   "source": [
    "### Extract gz files"
   ]
  },
  {
   "cell_type": "code",
   "execution_count": 3,
   "metadata": {
    "slideshow": {
     "slide_type": "skip"
    }
   },
   "outputs": [],
   "source": [
    "path = './data/2020-06-03/' \n",
    "all_files = glob.glob(os.path.join(path,\"http*.log.gz\"))"
   ]
  },
  {
   "cell_type": "code",
   "execution_count": 141,
   "metadata": {
    "scrolled": true,
    "slideshow": {
     "slide_type": "skip"
    }
   },
   "outputs": [],
   "source": [
    "df_list = []\n",
    "\n",
    "for jsonfilename in all_files:\n",
    "    with gzip.GzipFile(jsonfilename, 'r') as json_file:\n",
    "        for line in json_file:\n",
    "            json_data = json.loads(line)\n",
    "\n",
    "            timestamp = json_data['ts']\n",
    "            source_ip = json_data['id.orig_h']\n",
    "            source_port = json_data['id.orig_p']\n",
    "            destination_ip = json_data['id.resp_h']\n",
    "            destination_port = json_data['id.resp_p']\n",
    "\n",
    "            if 'method' in json_data:\n",
    "                http_method = json_data['method']\n",
    "            else:\n",
    "                http_method = 'NaN'\n",
    "\n",
    "            df_list.append({'timestamp':pd.to_datetime(timestamp),\n",
    "                           'source_ip': str(source_ip),\n",
    "                           'source_port': int(source_port),\n",
    "                           'destination_ip':str(destination_ip),\n",
    "                           'destination_port':int(destination_port),\n",
    "                           'method':str(http_method)})\n"
   ]
  },
  {
   "cell_type": "markdown",
   "metadata": {
    "slideshow": {
     "slide_type": "skip"
    }
   },
   "source": [
    "Create data frame from dictionary"
   ]
  },
  {
   "cell_type": "code",
   "execution_count": 142,
   "metadata": {
    "slideshow": {
     "slide_type": "skip"
    }
   },
   "outputs": [
    {
     "data": {
      "text/html": [
       "<div>\n",
       "<style scoped>\n",
       "    .dataframe tbody tr th:only-of-type {\n",
       "        vertical-align: middle;\n",
       "    }\n",
       "\n",
       "    .dataframe tbody tr th {\n",
       "        vertical-align: top;\n",
       "    }\n",
       "\n",
       "    .dataframe thead th {\n",
       "        text-align: right;\n",
       "    }\n",
       "</style>\n",
       "<table border=\"1\" class=\"dataframe\">\n",
       "  <thead>\n",
       "    <tr style=\"text-align: right;\">\n",
       "      <th></th>\n",
       "      <th>timestamp</th>\n",
       "      <th>source_ip</th>\n",
       "      <th>source_port</th>\n",
       "      <th>destination_ip</th>\n",
       "      <th>destination_port</th>\n",
       "      <th>method</th>\n",
       "    </tr>\n",
       "  </thead>\n",
       "  <tbody>\n",
       "    <tr>\n",
       "      <th>0</th>\n",
       "      <td>1970-01-01 00:00:01.591124408</td>\n",
       "      <td>111.119.188.11</td>\n",
       "      <td>43991</td>\n",
       "      <td>115.186.176.141</td>\n",
       "      <td>8080</td>\n",
       "      <td>OPTIONS</td>\n",
       "    </tr>\n",
       "    <tr>\n",
       "      <th>1</th>\n",
       "      <td>1970-01-01 00:00:01.591124409</td>\n",
       "      <td>111.119.188.11</td>\n",
       "      <td>43990</td>\n",
       "      <td>115.186.176.141</td>\n",
       "      <td>8080</td>\n",
       "      <td>NaN</td>\n",
       "    </tr>\n",
       "    <tr>\n",
       "      <th>2</th>\n",
       "      <td>1970-01-01 00:00:01.591124385</td>\n",
       "      <td>111.119.188.11</td>\n",
       "      <td>43989</td>\n",
       "      <td>115.186.176.141</td>\n",
       "      <td>8080</td>\n",
       "      <td>GET</td>\n",
       "    </tr>\n",
       "    <tr>\n",
       "      <th>3</th>\n",
       "      <td>1970-01-01 00:00:01.591124410</td>\n",
       "      <td>111.119.188.11</td>\n",
       "      <td>43992</td>\n",
       "      <td>115.186.176.141</td>\n",
       "      <td>8080</td>\n",
       "      <td>OPTIONS</td>\n",
       "    </tr>\n",
       "    <tr>\n",
       "      <th>4</th>\n",
       "      <td>1970-01-01 00:00:01.591124412</td>\n",
       "      <td>111.119.188.11</td>\n",
       "      <td>43993</td>\n",
       "      <td>115.186.176.141</td>\n",
       "      <td>8080</td>\n",
       "      <td>GET</td>\n",
       "    </tr>\n",
       "  </tbody>\n",
       "</table>\n",
       "</div>"
      ],
      "text/plain": [
       "                      timestamp       source_ip  source_port   destination_ip  \\\n",
       "0 1970-01-01 00:00:01.591124408  111.119.188.11        43991  115.186.176.141   \n",
       "1 1970-01-01 00:00:01.591124409  111.119.188.11        43990  115.186.176.141   \n",
       "2 1970-01-01 00:00:01.591124385  111.119.188.11        43989  115.186.176.141   \n",
       "3 1970-01-01 00:00:01.591124410  111.119.188.11        43992  115.186.176.141   \n",
       "4 1970-01-01 00:00:01.591124412  111.119.188.11        43993  115.186.176.141   \n",
       "\n",
       "   destination_port   method  \n",
       "0              8080  OPTIONS  \n",
       "1              8080      NaN  \n",
       "2              8080      GET  \n",
       "3              8080  OPTIONS  \n",
       "4              8080      GET  "
      ]
     },
     "execution_count": 142,
     "metadata": {},
     "output_type": "execute_result"
    }
   ],
   "source": [
    "http_df = pd.DataFrame(df_list, columns =['timestamp', 'source_ip', 'source_port', 'destination_ip', 'destination_port', 'method'])\n",
    "http_df.head()"
   ]
  },
  {
   "cell_type": "code",
   "execution_count": 143,
   "metadata": {
    "slideshow": {
     "slide_type": "skip"
    }
   },
   "outputs": [
    {
     "data": {
      "text/plain": [
       "(13653, 6)"
      ]
     },
     "execution_count": 143,
     "metadata": {},
     "output_type": "execute_result"
    }
   ],
   "source": [
    "http_df.shape"
   ]
  },
  {
   "cell_type": "markdown",
   "metadata": {
    "slideshow": {
     "slide_type": "skip"
    }
   },
   "source": [
    "*Store dataframe to csv*"
   ]
  },
  {
   "cell_type": "code",
   "execution_count": 144,
   "metadata": {
    "slideshow": {
     "slide_type": "skip"
    }
   },
   "outputs": [],
   "source": [
    "http_df.to_csv('./data/2020-06-03/http_logs.csv', index = False)"
   ]
  },
  {
   "cell_type": "code",
   "execution_count": 145,
   "metadata": {
    "slideshow": {
     "slide_type": "skip"
    }
   },
   "outputs": [
    {
     "name": "stdout",
     "output_type": "stream",
     "text": [
      "<class 'pandas.core.frame.DataFrame'>\n",
      "RangeIndex: 13653 entries, 0 to 13652\n",
      "Data columns (total 6 columns):\n",
      "timestamp           13653 non-null datetime64[ns]\n",
      "source_ip           13653 non-null object\n",
      "source_port         13653 non-null int64\n",
      "destination_ip      13653 non-null object\n",
      "destination_port    13653 non-null int64\n",
      "method              13653 non-null object\n",
      "dtypes: datetime64[ns](1), int64(2), object(3)\n",
      "memory usage: 640.1+ KB\n"
     ]
    }
   ],
   "source": [
    "http_df.info()"
   ]
  },
  {
   "cell_type": "markdown",
   "metadata": {
    "slideshow": {
     "slide_type": "skip"
    }
   },
   "source": [
    "### Attackers HTTP Requests"
   ]
  },
  {
   "cell_type": "code",
   "execution_count": 5,
   "metadata": {
    "slideshow": {
     "slide_type": "skip"
    }
   },
   "outputs": [],
   "source": [
    "df_merged = pd.read_csv('./data/2020-06-03/http_logs.csv')"
   ]
  },
  {
   "cell_type": "code",
   "execution_count": 11,
   "metadata": {
    "slideshow": {
     "slide_type": "skip"
    }
   },
   "outputs": [
    {
     "data": {
      "text/html": [
       "<div>\n",
       "<style scoped>\n",
       "    .dataframe tbody tr th:only-of-type {\n",
       "        vertical-align: middle;\n",
       "    }\n",
       "\n",
       "    .dataframe tbody tr th {\n",
       "        vertical-align: top;\n",
       "    }\n",
       "\n",
       "    .dataframe thead th {\n",
       "        text-align: right;\n",
       "    }\n",
       "</style>\n",
       "<table border=\"1\" class=\"dataframe\">\n",
       "  <thead>\n",
       "    <tr style=\"text-align: right;\">\n",
       "      <th></th>\n",
       "      <th>timestamp</th>\n",
       "      <th>source_ip</th>\n",
       "      <th>source_port</th>\n",
       "      <th>destination_ip</th>\n",
       "      <th>destination_port</th>\n",
       "      <th>method</th>\n",
       "    </tr>\n",
       "  </thead>\n",
       "  <tbody>\n",
       "    <tr>\n",
       "      <th>0</th>\n",
       "      <td>1970-01-01 00:00:01.591124408</td>\n",
       "      <td>111.119.188.11</td>\n",
       "      <td>43991</td>\n",
       "      <td>115.186.176.141</td>\n",
       "      <td>8080</td>\n",
       "      <td>OPTIONS</td>\n",
       "    </tr>\n",
       "    <tr>\n",
       "      <th>1</th>\n",
       "      <td>1970-01-01 00:00:01.591124409</td>\n",
       "      <td>111.119.188.11</td>\n",
       "      <td>43990</td>\n",
       "      <td>115.186.176.141</td>\n",
       "      <td>8080</td>\n",
       "      <td>NaN</td>\n",
       "    </tr>\n",
       "    <tr>\n",
       "      <th>2</th>\n",
       "      <td>1970-01-01 00:00:01.591124385</td>\n",
       "      <td>111.119.188.11</td>\n",
       "      <td>43989</td>\n",
       "      <td>115.186.176.141</td>\n",
       "      <td>8080</td>\n",
       "      <td>GET</td>\n",
       "    </tr>\n",
       "    <tr>\n",
       "      <th>3</th>\n",
       "      <td>1970-01-01 00:00:01.591124410</td>\n",
       "      <td>111.119.188.11</td>\n",
       "      <td>43992</td>\n",
       "      <td>115.186.176.141</td>\n",
       "      <td>8080</td>\n",
       "      <td>OPTIONS</td>\n",
       "    </tr>\n",
       "    <tr>\n",
       "      <th>4</th>\n",
       "      <td>1970-01-01 00:00:01.591124412</td>\n",
       "      <td>111.119.188.11</td>\n",
       "      <td>43993</td>\n",
       "      <td>115.186.176.141</td>\n",
       "      <td>8080</td>\n",
       "      <td>GET</td>\n",
       "    </tr>\n",
       "  </tbody>\n",
       "</table>\n",
       "</div>"
      ],
      "text/plain": [
       "                       timestamp       source_ip  source_port  \\\n",
       "0  1970-01-01 00:00:01.591124408  111.119.188.11        43991   \n",
       "1  1970-01-01 00:00:01.591124409  111.119.188.11        43990   \n",
       "2  1970-01-01 00:00:01.591124385  111.119.188.11        43989   \n",
       "3  1970-01-01 00:00:01.591124410  111.119.188.11        43992   \n",
       "4  1970-01-01 00:00:01.591124412  111.119.188.11        43993   \n",
       "\n",
       "    destination_ip  destination_port   method  \n",
       "0  115.186.176.141              8080  OPTIONS  \n",
       "1  115.186.176.141              8080      NaN  \n",
       "2  115.186.176.141              8080      GET  \n",
       "3  115.186.176.141              8080  OPTIONS  \n",
       "4  115.186.176.141              8080      GET  "
      ]
     },
     "execution_count": 11,
     "metadata": {},
     "output_type": "execute_result"
    }
   ],
   "source": [
    "df_merged.head()"
   ]
  },
  {
   "cell_type": "markdown",
   "metadata": {
    "slideshow": {
     "slide_type": "slide"
    }
   },
   "source": [
    "###  What are Attackers Source Ip's"
   ]
  },
  {
   "cell_type": "code",
   "execution_count": 14,
   "metadata": {
    "slideshow": {
     "slide_type": "subslide"
    }
   },
   "outputs": [
    {
     "data": {
      "image/png": "[encoded data removed]",
      "text/plain": [
       "<Figure size 864x432 with 1 Axes>"
      ]
     },
     "metadata": {},
     "output_type": "display_data"
    }
   ],
   "source": [
    "plt.figure(figsize=(12,6))\n",
    "sb.countplot(data=df_merged, y='source_ip', order=df_merged.source_ip.value_counts().iloc[:5].index,\n",
    "            orient = 'h');\n",
    "sb.set_style(\"dark\")\n",
    "plt.ylabel('Source IPs')\n",
    "plt.xlabel('Count');"
   ]
  },
  {
   "cell_type": "markdown",
   "metadata": {
    "slideshow": {
     "slide_type": "slide"
    }
   },
   "source": [
    "### Attackers Source Port"
   ]
  },
  {
   "cell_type": "code",
   "execution_count": 30,
   "metadata": {
    "scrolled": true,
    "slideshow": {
     "slide_type": "subslide"
    }
   },
   "outputs": [
    {
     "data": {
      "image/png": "[encoded data removed]",
      "text/plain": [
       "<Figure size 864x360 with 1 Axes>"
      ]
     },
     "metadata": {},
     "output_type": "display_data"
    }
   ],
   "source": [
    "\n",
    "plt.figure(figsize=(12,5))\n",
    "sb.countplot(data=df_merged, x='source_port', order=df_merged.source_port.value_counts().iloc[:5].index,\n",
    "            orient = 'h');\n",
    "sb.set_style(\"dark\")\n",
    "plt.title('Attacker HTTP Source Port')\n",
    "plt.ylabel('Count')\n",
    "plt.xlabel('Source Ports');"
   ]
  },
  {
   "cell_type": "markdown",
   "metadata": {
    "slideshow": {
     "slide_type": "slide"
    }
   },
   "source": [
    "### Attackers Destination IP"
   ]
  },
  {
   "cell_type": "code",
   "execution_count": 17,
   "metadata": {
    "scrolled": true,
    "slideshow": {
     "slide_type": "subslide"
    }
   },
   "outputs": [
    {
     "data": {
      "image/png": "[encoded data removed]",
      "text/plain": [
       "<Figure size 864x432 with 1 Axes>"
      ]
     },
     "metadata": {},
     "output_type": "display_data"
    }
   ],
   "source": [
    "plt.figure(figsize=(12,6))\n",
    "sb.countplot(data=df_merged, y='destination_ip', order=df_merged.destination_ip.value_counts().iloc[:5].index,\n",
    "            orient = 'h');\n",
    "sb.set_style(\"whitegrid\")\n",
    "plt.ylabel('Destination IPs')\n",
    "plt.xlabel('Count');"
   ]
  },
  {
   "cell_type": "markdown",
   "metadata": {
    "slideshow": {
     "slide_type": "slide"
    }
   },
   "source": [
    "### Attackers Destination PORTs"
   ]
  },
  {
   "cell_type": "code",
   "execution_count": 29,
   "metadata": {
    "scrolled": false,
    "slideshow": {
     "slide_type": "subslide"
    }
   },
   "outputs": [
    {
     "data": {
      "image/png": "[encoded data removed]",
      "text/plain": [
       "<Figure size 864x360 with 1 Axes>"
      ]
     },
     "metadata": {},
     "output_type": "display_data"
    }
   ],
   "source": [
    "plt.figure(figsize=(12,5))\n",
    "sb.countplot(data=df_merged, x='destination_port', order=df_merged.destination_port.value_counts().iloc[:5].index,\n",
    "            orient = 'h');\n",
    "sb.set_style(\"dark\")\n",
    "plt.title('Attacker HTTP Destination Port')\n",
    "plt.ylabel('Count')\n",
    "plt.xlabel('Destination Ports');"
   ]
  },
  {
   "cell_type": "markdown",
   "metadata": {
    "slideshow": {
     "slide_type": "slide"
    }
   },
   "source": [
    "### HTTP Methods"
   ]
  },
  {
   "cell_type": "code",
   "execution_count": 6,
   "metadata": {
    "scrolled": true,
    "slideshow": {
     "slide_type": "skip"
    }
   },
   "outputs": [],
   "source": [
    "sumpie = df_merged['method'].value_counts()"
   ]
  },
  {
   "cell_type": "code",
   "execution_count": 8,
   "metadata": {
    "slideshow": {
     "slide_type": "subslide"
    }
   },
   "outputs": [
    {
     "data": {
      "text/plain": [
       "OPTIONS    6586\n",
       "GET        5968\n",
       "POST         29\n",
       "HEAD          1\n",
       "Name: method, dtype: int64"
      ]
     },
     "execution_count": 8,
     "metadata": {},
     "output_type": "execute_result"
    }
   ],
   "source": [
    "sumpie"
   ]
  },
  {
   "cell_type": "code",
   "execution_count": 55,
   "metadata": {
    "scrolled": true,
    "slideshow": {
     "slide_type": "skip"
    }
   },
   "outputs": [
    {
     "data": {
      "image/png": "[encoded data removed]",
      "text/plain": [
       "<Figure size 432x288 with 1 Axes>"
      ]
     },
     "metadata": {},
     "output_type": "display_data"
    }
   ],
   "source": [
    "# plt.pie(sumpie, labels= sumpie.index, autopct='%1.1f%%', shadow=True)\n",
    "# plt.show();"
   ]
  }
 ],
 "metadata": {
  "celltoolbar": "Slideshow",
  "kernelspec": {
   "display_name": "Python 3",
   "language": "python",
   "name": "python3"
  },
  "language_info": {
   "codemirror_mode": {
    "name": "ipython",
    "version": 3
   },
   "file_extension": ".py",
   "mimetype": "text/x-python",
   "name": "python",
   "nbconvert_exporter": "python",
   "pygments_lexer": "ipython3",
   "version": "3.7.3"
  }
 },
 "nbformat": 4,
 "nbformat_minor": 2
}
