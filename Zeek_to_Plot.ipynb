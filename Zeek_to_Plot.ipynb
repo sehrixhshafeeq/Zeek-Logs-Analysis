{
 "cells": [
  {
   "cell_type": "markdown",
   "metadata": {},
   "source": [
    "<div style=\"float: right; margin: 20px 20px 20px 20px\"><img src=\"images/bro.png\" width=\"100px\"></div>\n",
    "\n",
    "# Zeek Network Data to Plotting\n",
    "Yes, this is provincial, but going from a Zeek log to a visual data plot in a few lines of code might be really handy sometimes. So without further ado here's a very small bit of code :)\n",
    "\n",
    "<div style=\"float: right; margin: 30px -100px 0px 0px\"><img src=\"images/matplotlib.png\" width=\"300px\"></div>\n",
    "\n",
    "### Software\n",
    "- Zeek Analysis Tools (ZAT): https://github.com/SuperCowPowers/zat\n",
    "- Pandas: https://github.com/pandas-dev/pandas\n",
    "- Matplotlib: https://matplotlib.org"
   ]
  },
  {
   "cell_type": "markdown",
   "metadata": {},
   "source": [
    "## Quickly go from Zeek log to Pandas DataFrame"
   ]
  },
  {
   "cell_type": "code",
   "execution_count": 10,
   "metadata": {},
   "outputs": [
    {
     "name": "stdout",
     "output_type": "stream",
     "text": [
      "Successfully monitoring ../data/http.log...\n"
     ]
    },
    {
     "data": {
      "text/html": [
       "<div>\n",
       "<style>\n",
       "    .dataframe thead tr:only-child th {\n",
       "        text-align: right;\n",
       "    }\n",
       "\n",
       "    .dataframe thead th {\n",
       "        text-align: left;\n",
       "    }\n",
       "\n",
       "    .dataframe tbody tr th {\n",
       "        vertical-align: top;\n",
       "    }\n",
       "</style>\n",
       "<table border=\"1\" class=\"dataframe\">\n",
       "  <thead>\n",
       "    <tr style=\"text-align: right;\">\n",
       "      <th></th>\n",
       "      <th>filename</th>\n",
       "      <th>host</th>\n",
       "      <th>id.orig_h</th>\n",
       "      <th>id.orig_p</th>\n",
       "      <th>id.resp_h</th>\n",
       "      <th>id.resp_p</th>\n",
       "      <th>info_code</th>\n",
       "      <th>info_msg</th>\n",
       "      <th>method</th>\n",
       "      <th>orig_fuids</th>\n",
       "      <th>...</th>\n",
       "      <th>resp_mime_types</th>\n",
       "      <th>response_body_len</th>\n",
       "      <th>status_code</th>\n",
       "      <th>status_msg</th>\n",
       "      <th>tags</th>\n",
       "      <th>trans_depth</th>\n",
       "      <th>uid</th>\n",
       "      <th>uri</th>\n",
       "      <th>user_agent</th>\n",
       "      <th>username</th>\n",
       "    </tr>\n",
       "    <tr>\n",
       "      <th>ts</th>\n",
       "      <th></th>\n",
       "      <th></th>\n",
       "      <th></th>\n",
       "      <th></th>\n",
       "      <th></th>\n",
       "      <th></th>\n",
       "      <th></th>\n",
       "      <th></th>\n",
       "      <th></th>\n",
       "      <th></th>\n",
       "      <th></th>\n",
       "      <th></th>\n",
       "      <th></th>\n",
       "      <th></th>\n",
       "      <th></th>\n",
       "      <th></th>\n",
       "      <th></th>\n",
       "      <th></th>\n",
       "      <th></th>\n",
       "      <th></th>\n",
       "      <th></th>\n",
       "    </tr>\n",
       "  </thead>\n",
       "  <tbody>\n",
       "    <tr>\n",
       "      <th>2013-09-15 17:44:27.668082</th>\n",
       "      <td>-</td>\n",
       "      <td>guyspy.com</td>\n",
       "      <td>192.168.33.10</td>\n",
       "      <td>1031</td>\n",
       "      <td>54.245.228.191</td>\n",
       "      <td>80</td>\n",
       "      <td>-</td>\n",
       "      <td>-</td>\n",
       "      <td>GET</td>\n",
       "      <td>-</td>\n",
       "      <td>...</td>\n",
       "      <td>text/html</td>\n",
       "      <td>184</td>\n",
       "      <td>301</td>\n",
       "      <td>Moved Permanently</td>\n",
       "      <td>(empty)</td>\n",
       "      <td>1</td>\n",
       "      <td>CyIaMO7IheOh38Zsi</td>\n",
       "      <td>/</td>\n",
       "      <td>Mozilla/4.0 (compatible; MSIE 8.0; Windows NT ...</td>\n",
       "      <td>-</td>\n",
       "    </tr>\n",
       "    <tr>\n",
       "      <th>2013-09-15 17:44:27.731702</th>\n",
       "      <td>-</td>\n",
       "      <td>www.guyspy.com</td>\n",
       "      <td>192.168.33.10</td>\n",
       "      <td>1032</td>\n",
       "      <td>54.245.228.191</td>\n",
       "      <td>80</td>\n",
       "      <td>-</td>\n",
       "      <td>-</td>\n",
       "      <td>GET</td>\n",
       "      <td>-</td>\n",
       "      <td>...</td>\n",
       "      <td>text/html</td>\n",
       "      <td>100631</td>\n",
       "      <td>200</td>\n",
       "      <td>OK</td>\n",
       "      <td>(empty)</td>\n",
       "      <td>1</td>\n",
       "      <td>CoyZrY2g74UvMMgp4a</td>\n",
       "      <td>/</td>\n",
       "      <td>Mozilla/4.0 (compatible; MSIE 8.0; Windows NT ...</td>\n",
       "      <td>-</td>\n",
       "    </tr>\n",
       "    <tr>\n",
       "      <th>2013-09-15 17:44:28.092922</th>\n",
       "      <td>-</td>\n",
       "      <td>www.guyspy.com</td>\n",
       "      <td>192.168.33.10</td>\n",
       "      <td>1032</td>\n",
       "      <td>54.245.228.191</td>\n",
       "      <td>80</td>\n",
       "      <td>-</td>\n",
       "      <td>-</td>\n",
       "      <td>GET</td>\n",
       "      <td>-</td>\n",
       "      <td>...</td>\n",
       "      <td>text/html</td>\n",
       "      <td>55817</td>\n",
       "      <td>404</td>\n",
       "      <td>Not Found</td>\n",
       "      <td>(empty)</td>\n",
       "      <td>2</td>\n",
       "      <td>CoyZrY2g74UvMMgp4a</td>\n",
       "      <td>/wp-content/plugins/slider-pro/css/advanced-sl...</td>\n",
       "      <td>Mozilla/4.0 (compatible; MSIE 8.0; Windows NT ...</td>\n",
       "      <td>-</td>\n",
       "    </tr>\n",
       "    <tr>\n",
       "      <th>2013-09-15 17:44:28.150301</th>\n",
       "      <td>-</td>\n",
       "      <td>www.guyspy.com</td>\n",
       "      <td>192.168.33.10</td>\n",
       "      <td>1040</td>\n",
       "      <td>54.245.228.191</td>\n",
       "      <td>80</td>\n",
       "      <td>-</td>\n",
       "      <td>-</td>\n",
       "      <td>GET</td>\n",
       "      <td>-</td>\n",
       "      <td>...</td>\n",
       "      <td>text/plain</td>\n",
       "      <td>887</td>\n",
       "      <td>200</td>\n",
       "      <td>OK</td>\n",
       "      <td>(empty)</td>\n",
       "      <td>1</td>\n",
       "      <td>CiCKTz4e0fkYYazBS3</td>\n",
       "      <td>/wp-content/plugins/contact-form-7/includes/cs...</td>\n",
       "      <td>Mozilla/4.0 (compatible; MSIE 8.0; Windows NT ...</td>\n",
       "      <td>-</td>\n",
       "    </tr>\n",
       "    <tr>\n",
       "      <th>2013-09-15 17:44:28.150602</th>\n",
       "      <td>-</td>\n",
       "      <td>www.guyspy.com</td>\n",
       "      <td>192.168.33.10</td>\n",
       "      <td>1041</td>\n",
       "      <td>54.245.228.191</td>\n",
       "      <td>80</td>\n",
       "      <td>-</td>\n",
       "      <td>-</td>\n",
       "      <td>GET</td>\n",
       "      <td>-</td>\n",
       "      <td>...</td>\n",
       "      <td>text/plain</td>\n",
       "      <td>10068</td>\n",
       "      <td>200</td>\n",
       "      <td>OK</td>\n",
       "      <td>(empty)</td>\n",
       "      <td>1</td>\n",
       "      <td>C1YBkC1uuO9bzndRvh</td>\n",
       "      <td>/wp-content/plugins/slider-pro/css/slider/adva...</td>\n",
       "      <td>Mozilla/4.0 (compatible; MSIE 8.0; Windows NT ...</td>\n",
       "      <td>-</td>\n",
       "    </tr>\n",
       "  </tbody>\n",
       "</table>\n",
       "<p>5 rows × 26 columns</p>\n",
       "</div>"
      ],
      "text/plain": [
       "                           filename            host      id.orig_h  id.orig_p  \\\n",
       "ts                                                                              \n",
       "2013-09-15 17:44:27.668082        -      guyspy.com  192.168.33.10       1031   \n",
       "2013-09-15 17:44:27.731702        -  www.guyspy.com  192.168.33.10       1032   \n",
       "2013-09-15 17:44:28.092922        -  www.guyspy.com  192.168.33.10       1032   \n",
       "2013-09-15 17:44:28.150301        -  www.guyspy.com  192.168.33.10       1040   \n",
       "2013-09-15 17:44:28.150602        -  www.guyspy.com  192.168.33.10       1041   \n",
       "\n",
       "                                 id.resp_h  id.resp_p info_code info_msg  \\\n",
       "ts                                                                         \n",
       "2013-09-15 17:44:27.668082  54.245.228.191         80         -        -   \n",
       "2013-09-15 17:44:27.731702  54.245.228.191         80         -        -   \n",
       "2013-09-15 17:44:28.092922  54.245.228.191         80         -        -   \n",
       "2013-09-15 17:44:28.150301  54.245.228.191         80         -        -   \n",
       "2013-09-15 17:44:28.150602  54.245.228.191         80         -        -   \n",
       "\n",
       "                           method orig_fuids   ...    resp_mime_types  \\\n",
       "ts                                             ...                      \n",
       "2013-09-15 17:44:27.668082    GET          -   ...          text/html   \n",
       "2013-09-15 17:44:27.731702    GET          -   ...          text/html   \n",
       "2013-09-15 17:44:28.092922    GET          -   ...          text/html   \n",
       "2013-09-15 17:44:28.150301    GET          -   ...         text/plain   \n",
       "2013-09-15 17:44:28.150602    GET          -   ...         text/plain   \n",
       "\n",
       "                           response_body_len status_code         status_msg  \\\n",
       "ts                                                                            \n",
       "2013-09-15 17:44:27.668082               184         301  Moved Permanently   \n",
       "2013-09-15 17:44:27.731702            100631         200                 OK   \n",
       "2013-09-15 17:44:28.092922             55817         404          Not Found   \n",
       "2013-09-15 17:44:28.150301               887         200                 OK   \n",
       "2013-09-15 17:44:28.150602             10068         200                 OK   \n",
       "\n",
       "                               tags trans_depth                 uid  \\\n",
       "ts                                                                    \n",
       "2013-09-15 17:44:27.668082  (empty)           1   CyIaMO7IheOh38Zsi   \n",
       "2013-09-15 17:44:27.731702  (empty)           1  CoyZrY2g74UvMMgp4a   \n",
       "2013-09-15 17:44:28.092922  (empty)           2  CoyZrY2g74UvMMgp4a   \n",
       "2013-09-15 17:44:28.150301  (empty)           1  CiCKTz4e0fkYYazBS3   \n",
       "2013-09-15 17:44:28.150602  (empty)           1  C1YBkC1uuO9bzndRvh   \n",
       "\n",
       "                                                                          uri  \\\n",
       "ts                                                                              \n",
       "2013-09-15 17:44:27.668082                                                  /   \n",
       "2013-09-15 17:44:27.731702                                                  /   \n",
       "2013-09-15 17:44:28.092922  /wp-content/plugins/slider-pro/css/advanced-sl...   \n",
       "2013-09-15 17:44:28.150301  /wp-content/plugins/contact-form-7/includes/cs...   \n",
       "2013-09-15 17:44:28.150602  /wp-content/plugins/slider-pro/css/slider/adva...   \n",
       "\n",
       "                                                                   user_agent  \\\n",
       "ts                                                                              \n",
       "2013-09-15 17:44:27.668082  Mozilla/4.0 (compatible; MSIE 8.0; Windows NT ...   \n",
       "2013-09-15 17:44:27.731702  Mozilla/4.0 (compatible; MSIE 8.0; Windows NT ...   \n",
       "2013-09-15 17:44:28.092922  Mozilla/4.0 (compatible; MSIE 8.0; Windows NT ...   \n",
       "2013-09-15 17:44:28.150301  Mozilla/4.0 (compatible; MSIE 8.0; Windows NT ...   \n",
       "2013-09-15 17:44:28.150602  Mozilla/4.0 (compatible; MSIE 8.0; Windows NT ...   \n",
       "\n",
       "                           username  \n",
       "ts                                   \n",
       "2013-09-15 17:44:27.668082        -  \n",
       "2013-09-15 17:44:27.731702        -  \n",
       "2013-09-15 17:44:28.092922        -  \n",
       "2013-09-15 17:44:28.150301        -  \n",
       "2013-09-15 17:44:28.150602        -  \n",
       "\n",
       "[5 rows x 26 columns]"
      ]
     },
     "execution_count": 10,
     "metadata": {},
     "output_type": "execute_result"
    }
   ],
   "source": [
    "from zat.log_to_dataframe import LogToDataFrame\n",
    "from zat.utils import plot_utils\n",
    "\n",
    "# Just some plotting defaults\n",
    "%matplotlib inline\n",
    "import matplotlib.pyplot as plt\n",
    "plot_utils.plot_defaults()\n",
    "\n",
    "# Convert it to a Pandas DataFrame\n",
    "log_to_df = LogToDataFrame()\n",
    "http_df = log_to_df.create_dataframe('../data/http.log')\n",
    "http_df.head()"
   ]
  },
  {
   "cell_type": "markdown",
   "metadata": {},
   "source": [
    "<div style=\"float: left; margin: 20px 20px 20px 20px\"><img src=\"images/eyeball.jpeg\" width=\"100px\"></div>\n",
    "\n",
    "## Lets look at our data\n",
    "Above we used a ZAT utility method to set up nice plotting defaults and here we simply use the plotting provided by Pandas."
   ]
  },
  {
   "cell_type": "code",
   "execution_count": 17,
   "metadata": {},
   "outputs": [
    {
     "data": {
      "text/plain": [
       "array([[<matplotlib.axes._subplots.AxesSubplot object at 0x114e2cfd0>,\n",
       "        <matplotlib.axes._subplots.AxesSubplot object at 0x1150aed30>]], dtype=object)"
      ]
     },
     "execution_count": 17,
     "metadata": {},
     "output_type": "execute_result"
    },
    {
     "data": {
      "image/png": "[encoded data removed]",
      "text/plain": [
       "<matplotlib.figure.Figure at 0x114ecbeb8>"
      ]
     },
     "metadata": {},
     "output_type": "display_data"
    }
   ],
   "source": [
    "http_df[['request_body_len','response_body_len']].hist()"
   ]
  },
  {
   "cell_type": "markdown",
   "metadata": {},
   "source": [
    "<div style=\"float: left; margin: 20px 20px 20px 20px\"><img src=\"images/eyeball.jpeg\" width=\"100px\"></div>\n",
    "\n",
    "## Lets look at our data again\n",
    "Since ZAT automatically makes the timestamp the index, we can plot volume over time super easy."
   ]
  },
  {
   "cell_type": "code",
   "execution_count": 19,
   "metadata": {},
   "outputs": [
    {
     "data": {
      "text/plain": [
       "<matplotlib.text.Text at 0x1151f2278>"
      ]
     },
     "execution_count": 19,
     "metadata": {},
     "output_type": "execute_result"
    },
    {
     "data": {
      "image/png": "[encoded data removed]",
      "text/plain": [
       "<matplotlib.figure.Figure at 0x11526e630>"
      ]
     },
     "metadata": {},
     "output_type": "display_data"
    }
   ],
   "source": [
    "http_df['uid'].resample('1S').count().plot()\n",
    "plt.xlabel('HTTP Requests per Second')"
   ]
  },
  {
   "cell_type": "markdown",
   "metadata": {},
   "source": [
    "## Wrap Up\n",
    "Well that's it for this notebook, it was kinda simple but sometime you just want to know how to plot the darn thing. :)\n",
    "\n",
    "If you liked this notebook please visit the [ZAT](https://github.com/SuperCowPowers/zat) project for more notebooks and examples."
   ]
  }
 ],
 "metadata": {
  "kernelspec": {
   "display_name": "Python 3",
   "language": "python",
   "name": "python3"
  },
  "language_info": {
   "codemirror_mode": {
    "name": "ipython",
    "version": 3
   },
   "file_extension": ".py",
   "mimetype": "text/x-python",
   "name": "python",
   "nbconvert_exporter": "python",
   "pygments_lexer": "ipython3",
   "version": "3.7.3"
  }
 },
 "nbformat": 4,
 "nbformat_minor": 2
}
